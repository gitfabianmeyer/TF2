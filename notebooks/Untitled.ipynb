{
 "cells": [
  {
   "cell_type": "markdown",
   "metadata": {},
   "source": [
    "### TC with Movie reviews"
   ]
  },
  {
   "cell_type": "code",
   "execution_count": 1,
   "metadata": {},
   "outputs": [
    {
     "name": "stdout",
     "output_type": "stream",
     "text": [
      "Version:  2.1.0\n",
      "Eager mode:  True\n",
      "Hub version:  0.7.0\n",
      "GPU is NOT AVAILABLE\n"
     ]
    }
   ],
   "source": [
    "import numpy as np\n",
    "\n",
    "import tensorflow as tf\n",
    "\n",
    "!pip install -q tensorflow-hub\n",
    "!pip install -q tfds-nightly\n",
    "import tensorflow_hub as hub\n",
    "import tensorflow_datasets as tfds\n",
    "\n",
    "print(\"Version: \", tf.__version__)\n",
    "print(\"Eager mode: \", tf.executing_eagerly())\n",
    "print(\"Hub version: \", hub.__version__)\n",
    "print(\"GPU is\", \"available\" if tf.config.experimental.list_physical_devices(\"GPU\") else \"NOT AVAILABLE\")\n"
   ]
  },
  {
   "cell_type": "code",
   "execution_count": 3,
   "metadata": {},
   "outputs": [
    {
     "name": "stdout",
     "output_type": "stream",
     "text": [
      "\u001b[1mDownloading and preparing dataset imdb_reviews/plain_text/1.0.0 (download: 80.23 MiB, generated: Unknown size, total: 80.23 MiB) to C:\\Users\\fmeyer\\tensorflow_datasets\\imdb_reviews\\plain_text\\1.0.0...\u001b[0m\n"
     ]
    },
    {
     "data": {
      "application/vnd.jupyter.widget-view+json": {
       "model_id": "9985fff642344535b31d8e4f1e8ae573",
       "version_major": 2,
       "version_minor": 0
      },
      "text/plain": [
       "HBox(children=(FloatProgress(value=1.0, bar_style='info', description='Dl Completed...', max=1.0, style=Progre…"
      ]
     },
     "metadata": {},
     "output_type": "display_data"
    },
    {
     "data": {
      "application/vnd.jupyter.widget-view+json": {
       "model_id": "38fff6c39c2b47b6aee7a5aad8601df8",
       "version_major": 2,
       "version_minor": 0
      },
      "text/plain": [
       "HBox(children=(FloatProgress(value=1.0, bar_style='info', description='Dl Size...', max=1.0, style=ProgressSty…"
      ]
     },
     "metadata": {},
     "output_type": "display_data"
    },
    {
     "name": "stdout",
     "output_type": "stream",
     "text": [
      "\n",
      "\n",
      "\n",
      "\n"
     ]
    },
    {
     "data": {
      "application/vnd.jupyter.widget-view+json": {
       "model_id": "eb1ecc8a4d064a2fafb1e5e22101bdad",
       "version_major": 2,
       "version_minor": 0
      },
      "text/plain": [
       "HBox(children=(FloatProgress(value=1.0, bar_style='info', max=1.0), HTML(value='')))"
      ]
     },
     "metadata": {},
     "output_type": "display_data"
    },
    {
     "name": "stdout",
     "output_type": "stream",
     "text": [
      "Shuffling and writing examples to C:\\Users\\fmeyer\\tensorflow_datasets\\imdb_reviews\\plain_text\\1.0.0.incompleteGL7XYQ\\imdb_reviews-train.tfrecord\n"
     ]
    },
    {
     "data": {
      "application/vnd.jupyter.widget-view+json": {
       "model_id": "11056ce360134fa7871f3b4e86df2181",
       "version_major": 2,
       "version_minor": 0
      },
      "text/plain": [
       "HBox(children=(FloatProgress(value=0.0, max=25000.0), HTML(value='')))"
      ]
     },
     "metadata": {},
     "output_type": "display_data"
    },
    {
     "name": "stdout",
     "output_type": "stream",
     "text": [
      "\r"
     ]
    },
    {
     "data": {
      "application/vnd.jupyter.widget-view+json": {
       "model_id": "5946dd38f3ce41ffbb7fb1ecbc70491b",
       "version_major": 2,
       "version_minor": 0
      },
      "text/plain": [
       "HBox(children=(FloatProgress(value=1.0, bar_style='info', max=1.0), HTML(value='')))"
      ]
     },
     "metadata": {},
     "output_type": "display_data"
    },
    {
     "name": "stdout",
     "output_type": "stream",
     "text": [
      "Shuffling and writing examples to C:\\Users\\fmeyer\\tensorflow_datasets\\imdb_reviews\\plain_text\\1.0.0.incompleteGL7XYQ\\imdb_reviews-test.tfrecord\n"
     ]
    },
    {
     "data": {
      "application/vnd.jupyter.widget-view+json": {
       "model_id": "f9837d778fbd4682a95e7f606af4119a",
       "version_major": 2,
       "version_minor": 0
      },
      "text/plain": [
       "HBox(children=(FloatProgress(value=0.0, max=25000.0), HTML(value='')))"
      ]
     },
     "metadata": {},
     "output_type": "display_data"
    },
    {
     "name": "stdout",
     "output_type": "stream",
     "text": [
      "\r"
     ]
    },
    {
     "data": {
      "application/vnd.jupyter.widget-view+json": {
       "model_id": "d39b2f207caf4e65a8083808244d9de9",
       "version_major": 2,
       "version_minor": 0
      },
      "text/plain": [
       "HBox(children=(FloatProgress(value=1.0, bar_style='info', max=1.0), HTML(value='')))"
      ]
     },
     "metadata": {},
     "output_type": "display_data"
    },
    {
     "name": "stdout",
     "output_type": "stream",
     "text": [
      "Shuffling and writing examples to C:\\Users\\fmeyer\\tensorflow_datasets\\imdb_reviews\\plain_text\\1.0.0.incompleteGL7XYQ\\imdb_reviews-unsupervised.tfrecord\n"
     ]
    },
    {
     "data": {
      "application/vnd.jupyter.widget-view+json": {
       "model_id": "6186ed47bf004a6b8f69d7308f2e7208",
       "version_major": 2,
       "version_minor": 0
      },
      "text/plain": [
       "HBox(children=(FloatProgress(value=0.0, max=50000.0), HTML(value='')))"
      ]
     },
     "metadata": {},
     "output_type": "display_data"
    },
    {
     "name": "stdout",
     "output_type": "stream",
     "text": [
      "\u001b[1mDataset imdb_reviews downloaded and prepared to C:\\Users\\fmeyer\\tensorflow_datasets\\imdb_reviews\\plain_text\\1.0.0. Subsequent calls will reuse this data.\u001b[0m\n",
      "\r"
     ]
    }
   ],
   "source": [
    "train_data, validation_data, test_data = tfds.load(name='imdb_reviews',\n",
    "                                                  split=('train[60%:]', 'train[60%:]','test'),\n",
    "                                                  as_supervised=True)"
   ]
  },
  {
   "cell_type": "code",
   "execution_count": 5,
   "metadata": {},
   "outputs": [
    {
     "data": {
      "text/plain": [
       "<tf.Tensor: shape=(10,), dtype=string, numpy=\n",
       "array([b'\"54\" is a film based on the infamous \"Studio 54\" of the 1970s - the hangout for the social elite and party clubbers. In the film, Ryan Phillippe is the main character, based on an actual employee of Studio from 1977 - 1982.<br /><br />The film\\'s problem is that it\\'s all glitter and style and no substance. It tries to be a really grimy and probing satire like \"Boogie Nights\" but ultimately comes across as an inferior wannabe. Mike Myers is given the thankless task of playing cocaine-snorting club owner Steve Rubell. It\\'s only a slightly comedic role and if this was Myers\\' best attempts at sliding into drama like Lemmon and other comedic actors did in their time, it\\'s a total failure.<br /><br />\"54\" could have been insightful and interesting but instead it\\'s just another dumb teen flick that isn\\'t entertaining or even remotely engaging. View at your own peril.',\n",
       "       b\"Love Trap is not a short, it's quite obviously a full length feature film with a running time of 105 minutes.<br /><br />While I'm writing this, I might as well talk a bit more about Love Trap. I'm frequently asked what makes Love Trap different... this is how I respond to that question: 1) It introduces characters - one in particular - that have never been seen before in film, period.<br /><br />2) It reveals more truth about love, and delves more deeply into the very concept of love, than any other U.S. film ever made, in my humble opinion.<br /><br />3) Structurally, as in the way the story is told, it is unlike any love story you've ever seen.<br /><br />4) It offers extremely timely insights on various cultural issues, both within and outside the Black community.<br /><br />Over time, people will come to see Love Trap as about as wholly an original work as possible in this era, delightfully refreshing, authentic and honest. It is a rare morality play full of food for thought.<br /><br />Please visit www.lovetrapmovie.com for complete and accurate info about this film.\",\n",
       "       b\"shakespeare's plays have a way of transcending time. The language somehow breaks the time barrier. but perhaps it is the actors who really do that.<br /><br />after the disappointment in Romeo and Juliet (the version with Claire Danes and Leonardo DiCaprio), was hesitant take on another modern rendition of Shakespeare. To my surprise Othello was great!<br /><br />Iago's character was played so well by the Kenneth fellow! even thoough Iago is really evil and despicable, the character was played so well that it does what shakespeare intended for the charater to be, a pleasure for the audience to hate. i have to say that fishburne's performance here was really good as well.<br /><br />i recommend this for shakespeare scholars and lazy students (who refuse to read the book) alike.\",\n",
       "       b\"If this documentary had not been made by the famous French director, Louis Malle, I probably would have turned it off after the first 15 minutes, as it was an incredibly dull look at a very ordinary Midwestern American town in 1979. This is not exactly my idea of a fun topic and the film footage closely resembled a collection of home movies. Considering I didn't know any of these people, it was even less interesting.<br /><br />Because it was a rather dull slice of life style documentary, I wondered while watching what was the message they were trying to convey? Perhaps it was that values aren't as conservative as you might think--this was an underlying message through many of the vignettes (such as the Republicans whose son was a draft resister as well as the man and lady who thought sex outside of marriage was just fine). Or, perhaps the meaning was that there was a lot of bigotry underlying the nice home town--as several ugly ideas such as blaming Jews for financial conspiracies, anti-Black bigotry and homophobia all were briefly explored.<br /><br />The small town of 1979 was explored in great depth and an idyllic sort of world was portrayed, but when the film makers returned six years later, the mood was depressed thanks to President Reagan. This seemed very disingenuous for several reasons. First, the 1979 portion was almost 90% of the film and the final 10% only consisted of a few interviews of people that blamed the president for just about everything but acne. What about the rest of the folks of this town? Did they all see Reagan as evil or that their lives had become more negative? With only a few updates, it seemed suspicious. Second, while it is true that the national debt doubled in the intervening years, so did the gross national product. And, while Malle shows 1979 as a very optimistic period, it was far from that, as the period from 1974-1980 featured many shortages (gas, sugar, etc.), strikes, high inflation and general malaise. While I am not a huge fan of Reagan because government growth did NOT slow during his administration, the country, in general, was far more optimistic than it had been in the Ford and Carter years. While many in the media demonized Reagan (a popular sport in the 80s), the economy improved significantly and the documentary seems very one-sided and agenda driven. Had the documentary given a more thorough coverage of 1985 and hadn't seemed too negative to be believed (after all, everyone didn't have their lives get worse--this defies common sense), then I might have thought otherwise.<br /><br />Overall, not the wonderful documentary some have proclaimed it to be--ranging from a dull film in 1979 to an extremely slanted look at 1985.<br /><br />By the way, is it just me, or does the film DROP DEAD GORGEOUS seem to have been inspired, at least in part, by this film? Both are set in similar communities, but the latter film was a hilarious mockumentary without all the serious undertones.\",\n",
       "       b'When i come on IMDb boards,I\\'m always fed up when i see a \"the worst movie ever\" post.After watching this *movie*,i think that i am soon going to create my own post!!<br /><br />The opening titles:great,some kind of lame zoom on a gas oven (yeah,focus on the fire=explosions=great action packed movie!!)<br /><br />The actors:I think that Ice T is a cool rapper,even a nice actor (sometimes, i insist,\"sometimes\") but the Steven seagal like policeman he plays is...beyond the words. The rest of the cast is...well i don\\'t know where those actors were hired but jeez!!I bet my dog would have been a much better actor than them!!<br /><br />The plot:Hijacking.original isn\\'t it??<br /><br />The action sequences:The first shot of the movie is an explosion.I told myself,well, cool!!At least there will be some nice pyrotechnics...I was dead wrong.The rest of the movie is mostly filled with low rent stock shots taken from the Air Force...<br /><br />The dialogs are hilarious,the music is pure crap,the end is happy( i mean i was happy at the end because the movie was over!!!)<br /><br />My cousin who was watching the movie was delighted( I\\'m 22, she\\'s 42...well).I was on the verge of taking the movie and burn it.Maybe next time I\\'m gonna watch it...(who said never???)',\n",
       "       b'This film on paper looked like it could possibly be good, after watching though i realised that this film was completely terrible!! The plot has no meaning, and i think i counted the best part of 5000 cut scenes each one making the film more annoying boring and ridiculous. I watched this late night pitch black no noise at all just to add to the SCARINESS of it but the truth is the only thing that scared me was the music, what they would call tragic music, they play opera i mean be serious!! This film sums up all of what is not good about this type of film. To be honest ill say no more but watch at your own risk this film is just complete rubbish, ENJOY!!',\n",
       "       b\"'Iedereen Beroemd' has everything we can expect from a straight to video-movie. It's the story about a man who believes his daughter could be a star. The only thing he needs is to get her on stage, surrounded by cameras and reporters. A simple plan for which he has to kidnap and do some blackmail. The problem with the movie is not the basic plot, but how it is made. Everything is supposed to be funny, but it isn't. It is trivial and clumsy, the characters are shallow, and the end-sequence is totally without climax or emotion. The last sequence is probably the only scene where you feel like laughing, but only at how pathetic the whole set-up is.\",\n",
       "       b'This film was rather a disappointment. After the very slow, very intense (and quite gory) beginning the film begins to lose it. Too much plot leaves too little time for explanation, and coming out of the theater I wondered what this was all about. The characters remain shallow, the story is not convincing at all, most of it is d\\xc3\\xa9ja v\\xc3\\xb9 stuff without hints of parody, and there are some very cheesy parts... Like, the young cop has to do dig up a body. Of course it\\'s night AND it rains AND he has to do it alone... yawn! Or The Manifestation of the Evil being \"nazis\" plus \"genetic manipulation\"... Wow, that\\'s really original. There are some nice bits, though, like the fistfight scene, mountain views and some (running) gags, but (though Reno and Vincent Cassel do what they can) that\\'s definitely not worth it. (3 out of 10)',\n",
       "       b'I LOVED this flick when it came out in the 80\\'s and still do! I still quote classic lines like \"say it again\" and \"you said you\\'d rip my balls off sir\". Ron Leibman was hot and very funny! Although it was underrated and disowned by MAD, I have to say that this little gem will always be a treasure of mine and a movie that I would take with me if sent to a deserted island! I only wish that someone would release the DVD because my VHS tape is about worn out! If you like cheesed out comedy, this is definitely for you and should be considered a cult classic! It is military humor at it\\'s best and worse! Rent it if you can\\'t own it!',\n",
       "       b\"This is a brilliant political satire. No wonder why it was largely ignored in the U.S.: it exposes our murderous foreign policy for what it really is.<br /><br />Another good film from this era, Rendition, was also totally dismissed simply because it showed, accurately, that the U.S. is a war machine bent on torturing, murdering, and maiming civilians in its quest for total world domination.<br /><br />A clever plot, good acting, some big stars (John Cusack, Ben Kingsley, Marisa Tomei anyone?) and some scenes of hilarity should have made this movie a hit. Unfortunately, Americans don't like to hear the truth about themselves, especially when they are complicit in mass murder.\"],\n",
       "      dtype=object)>"
      ]
     },
     "execution_count": 5,
     "metadata": {},
     "output_type": "execute_result"
    }
   ],
   "source": [
    "# take it look into the training set\n",
    "train_examples_batch, train_labels_batch = next(iter(train_data.batch(10)))\n",
    "train_examples_batch"
   ]
  },
  {
   "cell_type": "code",
   "execution_count": 6,
   "metadata": {},
   "outputs": [
    {
     "data": {
      "text/plain": [
       "<tf.Tensor: shape=(10,), dtype=int64, numpy=array([0, 1, 1, 0, 0, 0, 0, 0, 1, 1], dtype=int64)>"
      ]
     },
     "execution_count": 6,
     "metadata": {},
     "output_type": "execute_result"
    }
   ],
   "source": [
    "train_labels_batch"
   ]
  },
  {
   "cell_type": "code",
   "execution_count": 14,
   "metadata": {},
   "outputs": [
    {
     "data": {
      "text/plain": [
       "<tf.Tensor: shape=(3, 20), dtype=float32, numpy=\n",
       "array([[ 2.0287814 , -3.09827   ,  3.0092616 , -1.6790327 , -1.9187448 ,\n",
       "        -0.541796  , -1.3179585 , -0.2763995 ,  3.1945267 , -2.3923922 ,\n",
       "        -2.158214  ,  0.36449632, -1.2040817 , -0.3907468 , -1.8369267 ,\n",
       "         0.99000245,  1.6360253 , -0.8168775 , -1.80204   , -1.3412529 ],\n",
       "       [ 3.3755968 , -3.909652  ,  5.5317564 , -0.34337172, -5.3195777 ,\n",
       "        -3.975334  , -2.3213794 , -1.1221989 ,  4.1869936 , -2.7485137 ,\n",
       "        -1.6916426 ,  0.37863284, -0.5454323 ,  0.746681  , -4.028013  ,\n",
       "         0.15717079,  4.1928625 , -0.79877955, -2.7704723 , -2.4364202 ],\n",
       "       [ 2.0856028 , -3.8065917 ,  3.6239567 , -1.6610895 , -3.7669764 ,\n",
       "        -1.7204331 , -1.4448599 ,  1.3590558 ,  4.238418  , -0.31059918,\n",
       "        -2.1275387 , -0.39205027, -0.4028368 ,  0.02771739, -3.4792125 ,\n",
       "         0.557692  ,  3.860468  , -1.338282  , -2.3082013 , -0.8058568 ]],\n",
       "      dtype=float32)>"
      ]
     },
     "execution_count": 14,
     "metadata": {},
     "output_type": "execute_result"
    }
   ],
   "source": [
    "# use pretrained embeddings with tf hub to represent text\n",
    "\n",
    "embedding = \"https://tfhub.dev/google/tf2-preview/gnews-swivel-20dim/1\"\n",
    "hub_layer = hub.KerasLayer(embedding, input_shape=[],\n",
    "                          dtype = tf.string, trainable = True)\n",
    "hub_layer(train_examples_batch[:3])"
   ]
  },
  {
   "cell_type": "code",
   "execution_count": 15,
   "metadata": {},
   "outputs": [
    {
     "name": "stdout",
     "output_type": "stream",
     "text": [
      "Model: \"sequential_2\"\n",
      "_________________________________________________________________\n",
      "Layer (type)                 Output Shape              Param #   \n",
      "=================================================================\n",
      "keras_layer_2 (KerasLayer)   (None, 20)                400020    \n",
      "_________________________________________________________________\n",
      "dense_4 (Dense)              (None, 16)                336       \n",
      "_________________________________________________________________\n",
      "dense_5 (Dense)              (None, 1)                 17        \n",
      "=================================================================\n",
      "Total params: 400,373\n",
      "Trainable params: 400,373\n",
      "Non-trainable params: 0\n",
      "_________________________________________________________________\n"
     ]
    }
   ],
   "source": [
    "#build a sequential model\n",
    "model = tf.keras.Sequential()\n",
    "model.add(hub_layer)\n",
    "model.add(tf.keras.layers.Dense(16, activation='relu'))\n",
    "model.add(tf.keras.layers.Dense(1))\n",
    "\n",
    "model.summary()"
   ]
  },
  {
   "cell_type": "code",
   "execution_count": 16,
   "metadata": {},
   "outputs": [],
   "source": [
    "model.compile(optimizer='adam',\n",
    "              loss=tf.keras.losses.BinaryCrossentropy(from_logits=True),\n",
    "              metrics=['accuracy'])"
   ]
  },
  {
   "cell_type": "code",
   "execution_count": 17,
   "metadata": {},
   "outputs": [
    {
     "name": "stdout",
     "output_type": "stream",
     "text": [
      "Epoch 1/20\n",
      "20/20 [==============================] - 2s 118ms/step - loss: 2.7906 - accuracy: 0.5023 - val_loss: 1.7743 - val_accuracy: 0.4983\n",
      "Epoch 2/20\n",
      "20/20 [==============================] - 2s 92ms/step - loss: 1.1202 - accuracy: 0.5145 - val_loss: 0.7127 - val_accuracy: 0.5747\n",
      "Epoch 3/20\n",
      "20/20 [==============================] - 2s 90ms/step - loss: 0.7049 - accuracy: 0.5635 - val_loss: 0.6804 - val_accuracy: 0.5732\n",
      "Epoch 4/20\n",
      "20/20 [==============================] - 2s 90ms/step - loss: 0.6552 - accuracy: 0.6093 - val_loss: 0.6358 - val_accuracy: 0.6320\n",
      "Epoch 5/20\n",
      "20/20 [==============================] - 2s 99ms/step - loss: 0.6202 - accuracy: 0.6429 - val_loss: 0.6026 - val_accuracy: 0.6530\n",
      "Epoch 6/20\n",
      "20/20 [==============================] - 2s 118ms/step - loss: 0.5904 - accuracy: 0.6675 - val_loss: 0.5770 - val_accuracy: 0.6817\n",
      "Epoch 7/20\n",
      "20/20 [==============================] - 2s 111ms/step - loss: 0.5684 - accuracy: 0.6884 - val_loss: 0.5576 - val_accuracy: 0.6989\n",
      "Epoch 8/20\n",
      "20/20 [==============================] - 2s 108ms/step - loss: 0.5495 - accuracy: 0.7011 - val_loss: 0.5391 - val_accuracy: 0.7153\n",
      "Epoch 9/20\n",
      "20/20 [==============================] - 2s 111ms/step - loss: 0.5308 - accuracy: 0.7192 - val_loss: 0.5204 - val_accuracy: 0.7248\n",
      "Epoch 10/20\n",
      "20/20 [==============================] - 2s 120ms/step - loss: 0.5116 - accuracy: 0.7328 - val_loss: 0.5020 - val_accuracy: 0.7423\n",
      "Epoch 11/20\n",
      "20/20 [==============================] - 2s 122ms/step - loss: 0.4939 - accuracy: 0.7495 - val_loss: 0.4835 - val_accuracy: 0.7570\n",
      "Epoch 12/20\n",
      "20/20 [==============================] - 2s 118ms/step - loss: 0.4766 - accuracy: 0.7628 - val_loss: 0.4655 - val_accuracy: 0.7729\n",
      "Epoch 13/20\n",
      "20/20 [==============================] - 2s 112ms/step - loss: 0.4564 - accuracy: 0.7745 - val_loss: 0.4470 - val_accuracy: 0.7834\n",
      "Epoch 14/20\n",
      "20/20 [==============================] - 2s 110ms/step - loss: 0.4390 - accuracy: 0.7873 - val_loss: 0.4283 - val_accuracy: 0.7957\n",
      "Epoch 15/20\n",
      "20/20 [==============================] - 2s 110ms/step - loss: 0.4173 - accuracy: 0.8013 - val_loss: 0.4059 - val_accuracy: 0.8087\n",
      "Epoch 16/20\n",
      "20/20 [==============================] - 2s 118ms/step - loss: 0.3953 - accuracy: 0.8181 - val_loss: 0.3805 - val_accuracy: 0.8352\n",
      "Epoch 17/20\n",
      "20/20 [==============================] - 2s 120ms/step - loss: 0.3662 - accuracy: 0.8331 - val_loss: 0.3533 - val_accuracy: 0.8449\n",
      "Epoch 18/20\n",
      "20/20 [==============================] - 2s 114ms/step - loss: 0.3437 - accuracy: 0.8472 - val_loss: 0.3306 - val_accuracy: 0.8591\n",
      "Epoch 19/20\n",
      "20/20 [==============================] - 2s 116ms/step - loss: 0.3228 - accuracy: 0.8607 - val_loss: 0.3097 - val_accuracy: 0.8662\n",
      "Epoch 20/20\n",
      "20/20 [==============================] - 2s 119ms/step - loss: 0.3023 - accuracy: 0.8719 - val_loss: 0.2908 - val_accuracy: 0.8784\n"
     ]
    }
   ],
   "source": [
    "history = model.fit(train_data.shuffle(10000).batch(512),\n",
    "                    epochs=20,\n",
    "                    validation_data=validation_data.batch(512),\n",
    "                    verbose=1)"
   ]
  },
  {
   "cell_type": "code",
   "execution_count": 18,
   "metadata": {},
   "outputs": [
    {
     "name": "stdout",
     "output_type": "stream",
     "text": [
      "loss: 0.399\n",
      "accuracy: 0.810\n"
     ]
    }
   ],
   "source": [
    "results = model.evaluate(test_data.batch(512), verbose=2)\n",
    "\n",
    "for name, value in zip(model.metrics_names, results):\n",
    "  print(\"%s: %.3f\" % (name, value))"
   ]
  },
  {
   "cell_type": "markdown",
   "metadata": {},
   "source": [
    "Extreme simple approach (small embedding dim, 2 FC layer to train --> still 0.81 Acc"
   ]
  },
  {
   "cell_type": "code",
   "execution_count": null,
   "metadata": {},
   "outputs": [],
   "source": []
  }
 ],
 "metadata": {
  "kernelspec": {
   "display_name": "Python 3",
   "language": "python",
   "name": "python3"
  },
  "language_info": {
   "codemirror_mode": {
    "name": "ipython",
    "version": 3
   },
   "file_extension": ".py",
   "mimetype": "text/x-python",
   "name": "python",
   "nbconvert_exporter": "python",
   "pygments_lexer": "ipython3",
   "version": "3.7.6"
  }
 },
 "nbformat": 4,
 "nbformat_minor": 4
}
